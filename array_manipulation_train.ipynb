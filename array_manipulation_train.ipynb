{
 "cells": [
  {
   "cell_type": "code",
   "execution_count": 32,
   "id": "2773560e-da18-451d-b75c-8aaf949080f7",
   "metadata": {},
   "outputs": [
    {
     "name": "stdout",
     "output_type": "stream",
     "text": [
      "[[[ 1  2  3]\n",
      "  [ 4  5  6]]\n",
      "\n",
      " [[ 7  8  9]\n",
      "  [10 11 12]]]\n",
      "\n",
      "3 is the number of dimensions\n",
      "9 is the extract and print the element at position [1, 0, 2] (layer 1, row 0, column 2)\n",
      "[[1 2 3]\n",
      " [4 5 6]] To the left we see the entire first layer: arr[0, :, :]\n",
      "[[ 3  6]\n",
      " [ 9 12]] To the left we see the entire third column across all layers and rows\n",
      "\n",
      "[[[ 1  2  3]\n",
      "  [99 99 99]]\n",
      "\n",
      " [[ 7  8  9]\n",
      "  [10 11 12]]]\n"
     ]
    }
   ],
   "source": [
    "import numpy as np\n",
    "arr = np.arange(1,13).reshape(2,2,3) #Create a 3D NumPy array named arr with shape (2, 2, 3) containing integers from 1 to 12.\n",
    "print(arr) #print array\n",
    "print()\n",
    "print(np.ndim(arr), \"is the number of dimensions\")#Print the number of dimensions (ndim) of arr.\n",
    "\n",
    "print(arr[1,0,2],\"is the extract and print the element at position [1, 0, 2] (layer 1, row 0, column 2)\")#Extract and print the element at position [1, 0, 2] (layer 1, row 0, column 2).\n",
    "print(arr[0,:,:],\"To the left we see the entire first layer: arr[0, :, :]\")#the entire first layer: arr[0, :, :]\n",
    "print(arr[:,:,2],\"To the left we see the entire third column across all layers and rows\")#Extract and print the entire third column across all layers and rows: arr[:, :, 2].\n",
    "print()\n",
    "arr[0, 1, :]=99 #Replace the second row of the first layer (arr[0, 1, :]) with [99, 99, 99].\n",
    "print(arr)\n",
    "\n"
   ]
  },
  {
   "cell_type": "code",
   "execution_count": 65,
   "id": "4eed0e97-63be-4be7-af4b-af2e1c7aa0ac",
   "metadata": {},
   "outputs": [
    {
     "name": "stdout",
     "output_type": "stream",
     "text": [
      "[0. 0. 0. 0. 0.]\n",
      "[[1 1 1 1]\n",
      " [1 1 1 1]\n",
      " [1 1 1 1]]\n",
      "[[[7. 7. 7. 7.]\n",
      "  [7. 7. 7. 7.]\n",
      "  [7. 7. 7. 7.]]\n",
      "\n",
      " [[7. 7. 7. 7.]\n",
      "  [7. 7. 7. 7.]\n",
      "  [7. 7. 7. 7.]]]\n",
      "[5. 5. 5. 5. 5.]\n",
      "[[10 10 10 10]\n",
      " [10 10 10 10]\n",
      " [10 10 10 10]]\n",
      "[[[49. 49. 49. 49.]\n",
      "  [49. 49. 49. 49.]\n",
      "  [49. 49. 49. 49.]]\n",
      "\n",
      " [[49. 49. 49. 49.]\n",
      "  [49. 49. 49. 49.]\n",
      "  [49. 49. 49. 49.]]]\n"
     ]
    }
   ],
   "source": [
    "a = np.zeros(5,)#a = an array of zeros with shape (5,)\n",
    "print(a)\n",
    "b = np.ones((3,4), dtype='int32')#b = an array of ones with shape (3, 4) and dtype int32\n",
    "print(b)\n",
    "c = np.full((2,3,4),7,dtype='float64') #c = an array full of 7’s with shape (2, 3, 4) and dtype float64\n",
    "print(c)\n",
    "result = a + np.full((5,),5)           #Add a and a new array of fives of the same shape as a.\n",
    "print(result)\n",
    "result_2 = b*10 #Multiply b by 10.\n",
    "print(result_2)\n",
    "square = c**2 #Compute c raised to the power of 2 (element-wise square).\n",
    "print(square)"
   ]
  },
  {
   "cell_type": "code",
   "execution_count": 71,
   "id": "809a090b-2bb0-49bb-9794-4581b33e3dd1",
   "metadata": {},
   "outputs": [
    {
     "name": "stdout",
     "output_type": "stream",
     "text": [
      "[[6. 6.]\n",
      " [6. 6.]]\n",
      "10.000000000000002\n",
      "[[ 0.6 -0.7]\n",
      " [-0.2  0.4]]\n"
     ]
    }
   ],
   "source": [
    "\n",
    "a = np.ones((2, 3))            # shape (2, 3)\n",
    "b = np.full((3, 2), 2)         # shape (3, 2)\n",
    "\n",
    "print(np.matmul(a,b))        #Compute the matrix product of a and b using np.matmul().\n",
    "\n",
    "m = np.array([[4, 7],\n",
    "              [2, 6]])\n",
    "print(np.linalg.det(m))  #Compute the detemrinant\n",
    "print(np.linalg.inv(m))  #Compute the inverse"
   ]
  },
  {
   "cell_type": "code",
   "execution_count": 86,
   "id": "9647b6fc-83b2-4af8-94e0-e6d682657474",
   "metadata": {},
   "outputs": [
    {
     "name": "stdout",
     "output_type": "stream",
     "text": [
      "1 is the max of this array\n",
      "12 is the min of this array\n",
      "78 is the sum of this array\n",
      "[1 5 9] is the minimum of each column of this array\n",
      "[ 4  8 12] is the maxium of each column of this array\n",
      "[15 18 21 24] is the sum of each column\n"
     ]
    }
   ],
   "source": [
    "#stats on arrays\n",
    "data = np.array([[1, 5, 9],\n",
    "                 [2, 6, 10],\n",
    "                 [3, 7, 11],\n",
    "                 [4, 8, 12]])\n",
    "print(data.min(),\"is the min of this array\")            #Print the overall minimum\n",
    "print(data.max(),\"is the max of this array\")            #Print the overall maximum         \n",
    "print(data.sum(),\"is the sum of this array\")            #Print the overall sum         \n",
    "print(np.min(data, axis=0),\"is the minimum of each column of this array\")    #Print the minimum of each column (axis=0) \n",
    "print(np.max(data, axis=0),\"is the maxium of each column of this array\")     #Print the maximum of each column (axis=0)\n",
    "print(np.sum(data, axis=1),\"is the sum of each row\")                         #Print the sum of each row (axis=1).\n"
   ]
  },
  {
   "cell_type": "code",
   "execution_count": 99,
   "id": "a02abbc0-7109-4555-8da0-128e68474cf4",
   "metadata": {},
   "outputs": [
    {
     "name": "stdout",
     "output_type": "stream",
     "text": [
      "[1 2 3 4 5 6 7 8]\n",
      "The shape now is (8,)\n",
      "\n",
      "[[1 2 3 4]\n",
      " [5 6 7 8]]\n",
      "The shape now is (2, 4)\n",
      "\n",
      "[[1 2]\n",
      " [3 4]\n",
      " [5 6]\n",
      " [7 8]]\n",
      "The shape now is (4, 2)\n",
      "\n",
      "[[1]\n",
      " [2]\n",
      " [3]\n",
      " [4]\n",
      " [5]\n",
      " [6]\n",
      " [7]\n",
      " [8]]\n",
      "The shape now is (8, 1)\n"
     ]
    }
   ],
   "source": [
    "#reshaping\n",
    "data = np.array([1, 2, 3, 4, 5, 6, 7, 8])\n",
    "print(data)\n",
    "print(\"The shape now is\", data.shape)\n",
    "print()\n",
    "reshape = data.reshape(2,4)#Reshape data into a (2,4) array.\n",
    "print(reshape)\n",
    "print(\"The shape now is\", reshape.shape)\n",
    "print()\n",
    "re_reshape = data.reshape(4,2)#Then reshape it into a (4,2) array.\n",
    "print(re_reshape)\n",
    "print(\"The shape now is\",re_reshape.shape)\n",
    "print()\n",
    "final_reshape = data.reshape(8,1)\n",
    "print(final_reshape)\n",
    "print(\"The shape now is\",final_reshape.shape)"
   ]
  },
  {
   "cell_type": "code",
   "execution_count": 110,
   "id": "6c0327bd-4091-49d2-a460-40060591d917",
   "metadata": {},
   "outputs": [
    {
     "name": "stdout",
     "output_type": "stream",
     "text": [
      "[[1 2 3]\n",
      " [4 5 6]]\n",
      "\n",
      "[1 2 3 4 5 6]\n",
      "\n",
      "[[1 2 3]\n",
      " [4 5 6]\n",
      " [1 2 3]\n",
      " [4 5 6]]\n",
      "The shape of the above one is: (4, 3)\n",
      "None\n"
     ]
    }
   ],
   "source": [
    "#stacking\n",
    "v1 = np.array([1, 2, 3])\n",
    "v2 = np.array([4, 5, 6])\n",
    "print(np.vstack([v1,v2]))          #Vertically stack v1 and v2 to make a 2x3 array.\n",
    "print()\n",
    "print(np.hstack([v1,v2]))          #Horizontally stack v1 and v2 to make a 1x6 array.\n",
    "print()\n",
    "print(np.vstack([v1,v2,v1,v2]))#Vertically stack v1, v2, v1, and v2 (repeat twice vertically).\n",
    "print(print(\"The shape of the above one is:\", np.vstack([v1,v2,v1,v2]).shape))"
   ]
  },
  {
   "cell_type": "code",
   "execution_count": null,
   "id": "f675bc5b-f00d-4bab-a87d-c6ed7b29819c",
   "metadata": {},
   "outputs": [],
   "source": []
  }
 ],
 "metadata": {
  "kernelspec": {
   "display_name": "Python 3 (ipykernel)",
   "language": "python",
   "name": "python3"
  },
  "language_info": {
   "codemirror_mode": {
    "name": "ipython",
    "version": 3
   },
   "file_extension": ".py",
   "mimetype": "text/x-python",
   "name": "python",
   "nbconvert_exporter": "python",
   "pygments_lexer": "ipython3",
   "version": "3.13.3"
  }
 },
 "nbformat": 4,
 "nbformat_minor": 5
}
